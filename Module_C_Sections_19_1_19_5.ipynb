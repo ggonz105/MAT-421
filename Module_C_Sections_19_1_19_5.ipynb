{
  "nbformat": 4,
  "nbformat_minor": 0,
  "metadata": {
    "colab": {
      "provenance": [],
      "authorship_tag": "ABX9TyMxV3UURq3lM5TnOsobszwH",
      "include_colab_link": true
    },
    "kernelspec": {
      "name": "python3",
      "display_name": "Python 3"
    },
    "language_info": {
      "name": "python"
    }
  },
  "cells": [
    {
      "cell_type": "markdown",
      "metadata": {
        "id": "view-in-github",
        "colab_type": "text"
      },
      "source": [
        "<a href=\"https://colab.research.google.com/github/ggonz105/MAT-421/blob/main/Module_C_Sections_19_1_19_5.ipynb\" target=\"_parent\"><img src=\"https://colab.research.google.com/assets/colab-badge.svg\" alt=\"Open In Colab\"/></a>"
      ]
    },
    {
      "cell_type": "markdown",
      "source": [
        "**Section 19.1 Root Finding Problem Statement**"
      ],
      "metadata": {
        "id": "QWJgYPb1tOkD"
      }
    },
    {
      "cell_type": "markdown",
      "source": [
        "Finding the roots (zeros) of a simplistic function, such as a quadratic function. However, adding a more complex function, such as a cosine, will cause problems to find the exact solution. In this case it will be much easier to approximate the solution."
      ],
      "metadata": {
        "id": "Ur4dss9_uBgz"
      }
    },
    {
      "cell_type": "code",
      "execution_count": 15,
      "metadata": {
        "colab": {
          "base_uri": "https://localhost:8080/"
        },
        "id": "ZxTlgaErs8Zh",
        "outputId": "6113ba8b-50e2-4bd0-e3b9-4a4e464a4034"
      },
      "outputs": [
        {
          "output_type": "stream",
          "name": "stdout",
          "text": [
            "r = [0.73908513]\n",
            "result= [0.]\n"
          ]
        }
      ],
      "source": [
        "import numpy as np\n",
        "from scipy import optimize\n",
        "f = lambda x: np.cos(x) - x\n",
        "r = optimize.fsolve(f, -2)\n",
        "print(\"r =\", r)\n",
        "# Verify the solution is a root\n",
        "result = f(r)\n",
        "print(\"result=\", result)"
      ]
    },
    {
      "cell_type": "code",
      "source": [
        "f = lambda x: 1/x**2\n",
        "r, infodict, ier, mesg = optimize.fsolve(f, -2, full_output=True)\n",
        "print(\"r =\", r)\n",
        "result = f(r)\n",
        "print(\"result=\", result)\n",
        "print(mesg)"
      ],
      "metadata": {
        "colab": {
          "base_uri": "https://localhost:8080/"
        },
        "id": "hfV9ViZHv-tB",
        "outputId": "f34690a4-1ac2-4429-e52a-47cce0ddc4ec"
      },
      "execution_count": 16,
      "outputs": [
        {
          "output_type": "stream",
          "name": "stdout",
          "text": [
            "r = [-8.83517051e+48]\n",
            "result= [1.28106194e-98]\n",
            "The number of calls to function has reached maxfev = 400.\n"
          ]
        }
      ]
    },
    {
      "cell_type": "markdown",
      "source": [
        "**Section 19.2 Tolerance**"
      ],
      "metadata": {
        "id": "xrkyQsm8wK1A"
      }
    },
    {
      "cell_type": "markdown",
      "source": [
        "Tolerance is the level of error that is accepatble for an engineering application. When doing iterative computing, a solution will have converged when the error is smaller than the set tolerance.\n",
        "\n",
        "When wanting to compute roots numerically, it is important to establish both a metric for error and a tolerance that is suitable for the given application."
      ],
      "metadata": {
        "id": "MWTh9eN-wR0y"
      }
    },
    {
      "cell_type": "markdown",
      "source": [
        "**Section 19.3 Bisection Method**"
      ],
      "metadata": {
        "id": "FVVt7Uvjw-JL"
      }
    },
    {
      "cell_type": "markdown",
      "source": [
        "The intermediate Value Theorem (IVT) says taht if f(x) is a continuous function between a and b, then there must be a c such that a < c < b, and f(c) = 0\n",
        "\n",
        "The bisection method uses the IVT to iteratively find the roots. Assume that f(a) > 0 and f(b) < 0, then by IVT there must be a root on the open interval (a,b)."
      ],
      "metadata": {
        "id": "ldRchXJr0h8O"
      }
    },
    {
      "cell_type": "code",
      "source": [
        "import numpy as np\n",
        "def my_bisection(f, a, b, tol):\n",
        "    if np.sign(f(a)) == np.sign(f(b)):\n",
        "        raise Exception(\n",
        "         \"No roots between a and b\")\n",
        "    m = (a + b)/2                       # Calculate midpoint\n",
        "\n",
        "    if np.abs(f(m)) < tol:\n",
        "        return m\n",
        "    elif np.sign(f(a)) == np.sign(f(m)):\n",
        "        return my_bisection(f, m, b, tol)\n",
        "    elif np.sign(f(b)) == np.sign(f(m)):\n",
        "        return my_bisection(f, a, m, tol)\n",
        "\n",
        "# Use bisection function on x^2 - 2\n",
        "f = lambda x: x**2 - 2\n",
        "\n",
        "r1 = my_bisection(f, 0, 2, 0.1)   # Higher tolerance\n",
        "print(\"r1 =\", r1)\n",
        "r01 = my_bisection(f, 0, 2, 0.01) # Lower tolerance\n",
        "print(\"r01 =\", r01)\n",
        "\n",
        "print(\"f(r1) =\", f(r1))\n",
        "print(\"f(r01) =\", f(r01))"
      ],
      "metadata": {
        "colab": {
          "base_uri": "https://localhost:8080/"
        },
        "id": "p02-2XNjz94Y",
        "outputId": "0230c03b-a348-4820-ff8a-f71504dd0b4c"
      },
      "execution_count": 17,
      "outputs": [
        {
          "output_type": "stream",
          "name": "stdout",
          "text": [
            "r1 = 1.4375\n",
            "r01 = 1.4140625\n",
            "f(r1) = 0.06640625\n",
            "f(r01) = -0.00042724609375\n"
          ]
        }
      ]
    },
    {
      "cell_type": "markdown",
      "source": [
        "**Section 19.4 Newton-Raphson Method**"
      ],
      "metadata": {
        "id": "TnV0vz2V1Nza"
      }
    },
    {
      "cell_type": "markdown",
      "source": [
        "The Newton-Raphson (NR) Method uses an initial guess ($x_{0}$) and linear approximating to get an improved value. This process is then repeated until the error is less than the set tolerance value."
      ],
      "metadata": {
        "id": "rNhd7t-q1U20"
      }
    },
    {
      "cell_type": "code",
      "source": [
        "import numpy as np\n",
        "\n",
        "f = lambda x: x**2 - 2\n",
        "f_prime = lambda x: 2*x\n",
        "newton_raphson = 1.4 - (f(1.4))/(f_prime(1.4))\n",
        "\n",
        "print(\"newton_raphson =\", newton_raphson)\n",
        "print(\"sqrt(2) =\", np.sqrt(2))\n",
        "\n",
        "def my_newton(f, df, x0, tol): # Recursive implementation of Newton Raphson\n",
        "    if abs(f(x0)) < tol:\n",
        "        return x0\n",
        "    else:\n",
        "        return my_newton(f, df, x0 - f(x0)/df(x0), tol)\n",
        "\n",
        "estimate = my_newton(f, f_prime, 1.5, 1e-6)\n",
        "print(\"estimate =\", estimate)\n",
        "print(\"sqrt(2) =\", np.sqrt(2))"
      ],
      "metadata": {
        "colab": {
          "base_uri": "https://localhost:8080/"
        },
        "id": "tPE7BLdw7AHC",
        "outputId": "cb238739-4b73-4d0b-b626-0ea5771c987b"
      },
      "execution_count": 18,
      "outputs": [
        {
          "output_type": "stream",
          "name": "stdout",
          "text": [
            "newton_raphson = 1.4142857142857144\n",
            "sqrt(2) = 1.4142135623730951\n",
            "estimate = 1.4142135623746899\n",
            "sqrt(2) = 1.4142135623730951\n"
          ]
        }
      ]
    },
    {
      "cell_type": "markdown",
      "source": [
        "**Section 19.5 Root Finding in Python**"
      ],
      "metadata": {
        "id": "nQA_XG0K7V6O"
      }
    },
    {
      "cell_type": "markdown",
      "source": [
        "Python contains its own built in root finding functions, f_solve"
      ],
      "metadata": {
        "id": "y7DhpikS7dNR"
      }
    },
    {
      "cell_type": "code",
      "source": [
        "from scipy.optimize import fsolve\n",
        "f = lambda x: x**3-100*x**2-x+100\n",
        "\n",
        "fsolve(f, [2, 80])"
      ],
      "metadata": {
        "colab": {
          "base_uri": "https://localhost:8080/"
        },
        "id": "L09aMlsK7lqt",
        "outputId": "12f48606-23d6-4eaa-b0ac-a8d5a52e3940"
      },
      "execution_count": 19,
      "outputs": [
        {
          "output_type": "execute_result",
          "data": {
            "text/plain": [
              "array([  1., 100.])"
            ]
          },
          "metadata": {},
          "execution_count": 19
        }
      ]
    }
  ]
}
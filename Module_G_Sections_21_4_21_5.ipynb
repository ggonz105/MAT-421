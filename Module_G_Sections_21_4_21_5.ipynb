{
  "nbformat": 4,
  "nbformat_minor": 0,
  "metadata": {
    "colab": {
      "provenance": [],
      "authorship_tag": "ABX9TyO0jMtN2qkU6xoidm7dqnMe",
      "include_colab_link": true
    },
    "kernelspec": {
      "name": "python3",
      "display_name": "Python 3"
    },
    "language_info": {
      "name": "python"
    }
  },
  "cells": [
    {
      "cell_type": "markdown",
      "metadata": {
        "id": "view-in-github",
        "colab_type": "text"
      },
      "source": [
        "<a href=\"https://colab.research.google.com/github/ggonz105/MAT-421/blob/main/Module_G_Sections_21_4_21_5.ipynb\" target=\"_parent\"><img src=\"https://colab.research.google.com/assets/colab-badge.svg\" alt=\"Open In Colab\"/></a>"
      ]
    },
    {
      "cell_type": "markdown",
      "source": [
        "**Section 21.4 Simpson's Rule**"
      ],
      "metadata": {
        "id": "puRN9Eq_YUJY"
      }
    },
    {
      "cell_type": "markdown",
      "source": [
        "* Approximates the area under the curve of two consectuvie subintervals by fitting a quadratic polynomial\n"
      ],
      "metadata": {
        "id": "pWe75hztYYJ5"
      }
    },
    {
      "cell_type": "code",
      "execution_count": 7,
      "metadata": {
        "colab": {
          "base_uri": "https://localhost:8080/"
        },
        "id": "jjdhKWmHYK1Q",
        "outputId": "45bcb7dc-345b-4071-abde-127fc1111bd4"
      },
      "outputs": [
        {
          "output_type": "stream",
          "name": "stdout",
          "text": [
            "2.0001095173150043\n",
            "-0.00010951731500430384\n"
          ]
        }
      ],
      "source": [
        "import numpy as np\n",
        "\n",
        "a = 0\n",
        "b = np.pi\n",
        "n = 11\n",
        "h = (b - a) / (n - 1)\n",
        "x = np.linspace(a, b, n)\n",
        "f = np.sin(x)\n",
        "\n",
        "I_simp = (h/3) * (f[0] + 2*sum(f[:n-2:2]) \\\n",
        "+ 4*sum(f[1:n-1:2]) + f[n-1])\n",
        "err_simp = 2 - I_simp\n",
        "\n",
        "print(I_simp)\n",
        "print(err_simp)"
      ]
    },
    {
      "cell_type": "markdown",
      "source": [
        "**Section 21.5 Computing Integrals in Python**"
      ],
      "metadata": {
        "id": "rPFwXUUzY31Z"
      }
    },
    {
      "cell_type": "markdown",
      "source": [
        "* Python contains some mathematical libraries that can approximate integrals"
      ],
      "metadata": {
        "id": "cuhkjKhsY_l2"
      }
    },
    {
      "cell_type": "code",
      "source": [
        "import numpy as np\n",
        "from scipy.integrate import quad\n",
        "\n",
        "I_quad, est_err_quad = \\\n",
        "quad(np.sin, 0, np.pi)\n",
        "\n",
        "print(I_quad)\n",
        "err_quad = 2 - I_quad\n",
        "print(est_err_quad, err_quad)"
      ],
      "metadata": {
        "colab": {
          "base_uri": "https://localhost:8080/"
        },
        "id": "-m7iYelGZPzh",
        "outputId": "da399ee1-985e-4f6a-c6b0-e657c356f2dd"
      },
      "execution_count": 8,
      "outputs": [
        {
          "output_type": "stream",
          "name": "stdout",
          "text": [
            "2.0\n",
            "2.220446049250313e-14 0.0\n"
          ]
        }
      ]
    }
  ]
}
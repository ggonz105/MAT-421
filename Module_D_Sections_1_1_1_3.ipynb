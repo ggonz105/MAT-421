{
  "nbformat": 4,
  "nbformat_minor": 0,
  "metadata": {
    "colab": {
      "provenance": [],
      "authorship_tag": "ABX9TyMl2ufxjAvZPn74YJioZ7aT",
      "include_colab_link": true
    },
    "kernelspec": {
      "name": "python3",
      "display_name": "Python 3"
    },
    "language_info": {
      "name": "python"
    }
  },
  "cells": [
    {
      "cell_type": "markdown",
      "metadata": {
        "id": "view-in-github",
        "colab_type": "text"
      },
      "source": [
        "<a href=\"https://colab.research.google.com/github/ggonz105/MAT-421/blob/main/Module_D_Sections_1_1_1_3.ipynb\" target=\"_parent\"><img src=\"https://colab.research.google.com/assets/colab-badge.svg\" alt=\"Open In Colab\"/></a>"
      ]
    },
    {
      "cell_type": "markdown",
      "source": [
        "**Section 1.1 Introduction**"
      ],
      "metadata": {
        "id": "bK2giD5mJeWl"
      }
    },
    {
      "cell_type": "markdown",
      "source": [
        "Linear Algebra is a mathematic field that is widely used and plays an important role in data sciene and machine learning.\n",
        "\n",
        "Some basic linear algebra concepts include vector spaces, orthogonality, eigenvalues, and matrix decompostition."
      ],
      "metadata": {
        "id": "I4kBEeh1Joii"
      }
    },
    {
      "cell_type": "markdown",
      "source": [
        "**Section 1.2 Elements of Linear Algebra**"
      ],
      "metadata": {
        "id": "K9tBQFpJKFqE"
      }
    },
    {
      "cell_type": "markdown",
      "source": [
        "Linear Combination\n",
        "* A new vector constructed from a subset by multiplying each vector by a constant and adding the results"
      ],
      "metadata": {
        "id": "1cM_h8VsKNoc"
      }
    },
    {
      "cell_type": "code",
      "execution_count": 7,
      "metadata": {
        "colab": {
          "base_uri": "https://localhost:8080/"
        },
        "id": "o6iO3vl94aB2",
        "outputId": "5d56fc14-c845-4773-abfd-bee8b570fd5e"
      },
      "outputs": [
        {
          "output_type": "stream",
          "name": "stdout",
          "text": [
            "[[ 9 -5  2]\n",
            " [ 2  7 -4]\n",
            " [ 5  8 -1]]\n"
          ]
        }
      ],
      "source": [
        "# Linear Combination Example\n",
        "import numpy as np\n",
        "\n",
        "x = np.array([[5, 7, 2]])\n",
        "y = np.array([[8, 4, -2]])\n",
        "z = np.array([[3, 9, -4]])\n",
        "\n",
        "a = 2*x + 3*y + 4*z;\n",
        "print(A)"
      ]
    },
    {
      "cell_type": "markdown",
      "source": [
        "Linear Subspace\n",
        "* A subset that is closed under vector addition and scalar multiplication\n",
        "* Satisfies: for all u1, u2 ∈ U and α ∈ R, u1 + u2 ∈ U, and\n",
        "α u1 ∈ U"
      ],
      "metadata": {
        "id": "9NLZR1a1NNXa"
      }
    },
    {
      "cell_type": "markdown",
      "source": [
        "Span\n",
        "* The set of all linear combinations\n",
        "* Every span is a linear subspace"
      ],
      "metadata": {
        "id": "JmaoErcBOfbv"
      }
    },
    {
      "cell_type": "markdown",
      "source": [
        "Column Space\n",
        "* The span of the columns of a given matrix A"
      ],
      "metadata": {
        "id": "lj_eeN0iPdIp"
      }
    },
    {
      "cell_type": "markdown",
      "source": [
        "Linear Independence\n",
        "* A list of vectors is linearly independent if none of them can be written as a linear combination of the others\n",
        "* Vectors are linearly independent if the determinant does not equal 0"
      ],
      "metadata": {
        "id": "CM9SFrEtPndy"
      }
    },
    {
      "cell_type": "code",
      "source": [
        "# Example of Independent and Dependent Vectors\n",
        "\n",
        "A = np.array([[9, -5, 2], [2, 7, -4], [5, 8, -1]])\n",
        "print(np.linalg.det(A)) # Non zero determinant, therefore linearly independent\n",
        "\n",
        "B = np.array([[0, 0, 0], [2, 7, -4], [5, 8, -1]])\n",
        "print(np.linalg.det(B)) # Determinant = 0, therefore linearly dependent"
      ],
      "metadata": {
        "colab": {
          "base_uri": "https://localhost:8080/"
        },
        "id": "s8khPGWwOers",
        "outputId": "fd518e1d-56b4-4a35-a9f4-fbc74bd4d5a7"
      },
      "execution_count": 8,
      "outputs": [
        {
          "output_type": "stream",
          "name": "stdout",
          "text": [
            "277.0\n",
            "0.0\n"
          ]
        }
      ]
    },
    {
      "cell_type": "markdown",
      "source": [
        "Dimension Theorem\n",
        "* If U is a linear subspace of V, any basis of U will have the same number of elements. Additionally, all bases of U will have the same length and the same number of elements. The number of elements is denoted as the dimension"
      ],
      "metadata": {
        "id": "5nCsvbPQSbEr"
      }
    },
    {
      "cell_type": "markdown",
      "source": [
        "**Orthogonality**\n",
        "* A set of vectors are orthonormal if they sum to the zero vector and one of them had a magnitude of 1\n",
        "* The eigenvalue of a square matrix exists if there exists a nonzero vector such that Ax = λx"
      ],
      "metadata": {
        "id": "MCK4Uzf6Se3A"
      }
    },
    {
      "cell_type": "code",
      "source": [
        "# A demonstration of finding eigenvalues and eigenvectors in Python\n",
        "\n",
        "import numpy as np\n",
        "from numpy.linalg import eig\n",
        "\n",
        "a = np.array([[4, 2], [5, 1]])\n",
        "w,v=eig(a)\n",
        "print('E-value:', w)\n",
        "print('E-vector', v)"
      ],
      "metadata": {
        "colab": {
          "base_uri": "https://localhost:8080/"
        },
        "id": "7r9HG3L5UcCB",
        "outputId": "203689fd-ec26-4cfb-ce33-1c2b28cb2d04"
      },
      "execution_count": 9,
      "outputs": [
        {
          "output_type": "stream",
          "name": "stdout",
          "text": [
            "E-value: [ 6. -1.]\n",
            "E-vector [[ 0.70710678 -0.37139068]\n",
            " [ 0.70710678  0.92847669]]\n"
          ]
        }
      ]
    },
    {
      "cell_type": "markdown",
      "source": [
        "**Section 1.3 Linear Regression**"
      ],
      "metadata": {
        "id": "q4RlZyefV7-V"
      }
    },
    {
      "cell_type": "markdown",
      "source": [
        "* Linear Regression approximates the relationship between 2 variables with a simple linear equation\n",
        "* QR decomposition is a useful procedure to solve the least squares problem\n",
        "* For a given matrix, A, its QR decompisition is such that A=QR where Q is a matrix with the same dimensions as A and R is a suqare matrix with its dimensions determined by the number of columns in A\n",
        "* Suppose A is a matrix and b is a vector with as many rows as A, Ax = b is best solved using the least-squares problems"
      ],
      "metadata": {
        "id": "RiFDXzn0WFc-"
      }
    }
  ]
}
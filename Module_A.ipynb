{
  "nbformat": 4,
  "nbformat_minor": 0,
  "metadata": {
    "colab": {
      "provenance": [],
      "authorship_tag": "ABX9TyPMFkHWBrx6NM1GURkv20fV",
      "include_colab_link": true
    },
    "kernelspec": {
      "name": "python3",
      "display_name": "Python 3"
    },
    "language_info": {
      "name": "python"
    }
  },
  "cells": [
    {
      "cell_type": "markdown",
      "metadata": {
        "id": "view-in-github",
        "colab_type": "text"
      },
      "source": [
        "<a href=\"https://colab.research.google.com/github/ggonz105/MAT-421/blob/main/Module_A.ipynb\" target=\"_parent\"><img src=\"https://colab.research.google.com/assets/colab-badge.svg\" alt=\"Open In Colab\"/></a>"
      ]
    },
    {
      "cell_type": "markdown",
      "source": [
        "The decimal system(base 10) is a way of representing numbers with digit of 0 and 9. And each digit is being the coefficient of a power of 10.\n",
        "\n",
        "The binary system (base 2) is a way of representing numbers with digit of 0 and 1. And each digit is being the coefficient of a power of 2."
      ],
      "metadata": {
        "id": "rOspxqHRRYkJ"
      }
    },
    {
      "cell_type": "code",
      "source": [
        "561.4 == (5*10**2) + (6*10**1) + (1*10**0) + (4*10**-1)\n",
        "# This shows the decimal number 561.4 in (base10)"
      ],
      "metadata": {
        "colab": {
          "base_uri": "https://localhost:8080/"
        },
        "id": "RGJoH7JxRibL",
        "outputId": "deb896ed-b51d-439e-f5cd-9b79733204d5"
      },
      "execution_count": 3,
      "outputs": [
        {
          "output_type": "execute_result",
          "data": {
            "text/plain": [
              "True"
            ]
          },
          "metadata": {},
          "execution_count": 3
        }
      ]
    },
    {
      "cell_type": "code",
      "source": [
        "# 150(base3) == 15(base10)\n",
        "(5*3**3) + (1*3**2) + (6*3**0) == (1*10**2) + (5*10**1) + (0*10**0)"
      ],
      "metadata": {
        "colab": {
          "base_uri": "https://localhost:8080/"
        },
        "id": "X3BJNSbBTb54",
        "outputId": "01ce4771-92d6-4f35-9e00-77cf41f6960a"
      },
      "execution_count": 6,
      "outputs": [
        {
          "output_type": "execute_result",
          "data": {
            "text/plain": [
              "True"
            ]
          },
          "metadata": {},
          "execution_count": 6
        }
      ]
    },
    {
      "cell_type": "markdown",
      "source": [
        "In order to convert decimals into binary, the decimal must be represented in (base 10) to then be converted into binary (base 2)"
      ],
      "metadata": {
        "id": "oM4SR5U7XpDY"
      }
    },
    {
      "cell_type": "code",
      "source": [
        "# Converting 76(base10) to binary\n",
        "76 == (1*2**6) + (1*2**3) + (1*2**2)\n",
        "\n",
        "# 76(base10) == 1001100(base2)\n"
      ],
      "metadata": {
        "colab": {
          "base_uri": "https://localhost:8080/"
        },
        "id": "kdadnwsGYOVP",
        "outputId": "8dd9d289-819a-446b-b73c-081764827118"
      },
      "execution_count": 14,
      "outputs": [
        {
          "output_type": "execute_result",
          "data": {
            "text/plain": [
              "True"
            ]
          },
          "metadata": {},
          "execution_count": 14
        }
      ]
    },
    {
      "cell_type": "code",
      "source": [
        "# Converting 27(base10) to binary\n",
        "27 == (1*2**4) + (1*2**3) + (1*2**1) + (1*2**0)\n",
        "\n",
        "# 27(base10) == 11011(base2)"
      ],
      "metadata": {
        "colab": {
          "base_uri": "https://localhost:8080/"
        },
        "id": "RGyoZSRsa-xa",
        "outputId": "dd8c804a-053b-40d0-ad82-e39441600b37"
      },
      "execution_count": 15,
      "outputs": [
        {
          "output_type": "execute_result",
          "data": {
            "text/plain": [
              "True"
            ]
          },
          "metadata": {},
          "execution_count": 15
        }
      ]
    },
    {
      "cell_type": "markdown",
      "source": [
        "Once in binary, normal addition and multiplication rules can be applied to compute the values"
      ],
      "metadata": {
        "id": "-DySwuuLbbkC"
      }
    },
    {
      "cell_type": "code",
      "source": [
        "# Addition in binary\n",
        "# 76 + 27 = 103\n",
        "# 1001100 + 11011 = 1100111\n",
        "103 == (1*2**6) + (1*2**5) + (1*2**2) + (1*2**1) + (1*2**0)"
      ],
      "metadata": {
        "colab": {
          "base_uri": "https://localhost:8080/"
        },
        "id": "3l-yiQxYbKn3",
        "outputId": "8050ec89-c115-4d48-8a25-460d3fe04225"
      },
      "execution_count": 16,
      "outputs": [
        {
          "output_type": "execute_result",
          "data": {
            "text/plain": [
              "True"
            ]
          },
          "metadata": {},
          "execution_count": 16
        }
      ]
    },
    {
      "cell_type": "code",
      "source": [
        "# Multiplication in binary\n",
        "# 76 * 27 = 1748\n",
        "# 1001100 * 11011 = 11011010100\n",
        "1748 == (1*2**10) + (1*2**9) + (1*2**7) + (1*2**6) + (1*2**4) + (1*2**2)"
      ],
      "metadata": {
        "colab": {
          "base_uri": "https://localhost:8080/"
        },
        "id": "MiA5xUrtc9Y0",
        "outputId": "8bd5af85-b794-4c39-de46-ea30d3fc838b"
      },
      "execution_count": 18,
      "outputs": [
        {
          "output_type": "execute_result",
          "data": {
            "text/plain": [
              "True"
            ]
          },
          "metadata": {},
          "execution_count": 18
        }
      ]
    }
  ]
}
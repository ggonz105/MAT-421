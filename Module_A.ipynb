{
  "nbformat": 4,
  "nbformat_minor": 0,
  "metadata": {
    "colab": {
      "provenance": [],
      "authorship_tag": "ABX9TyOExX7Ub11+ZaM29KW5Nniy",
      "include_colab_link": true
    },
    "kernelspec": {
      "name": "python3",
      "display_name": "Python 3"
    },
    "language_info": {
      "name": "python"
    }
  },
  "cells": [
    {
      "cell_type": "markdown",
      "metadata": {
        "id": "view-in-github",
        "colab_type": "text"
      },
      "source": [
        "<a href=\"https://colab.research.google.com/github/ggonz105/MAT-421/blob/main/Module_A.ipynb\" target=\"_parent\"><img src=\"https://colab.research.google.com/assets/colab-badge.svg\" alt=\"Open In Colab\"/></a>"
      ]
    },
    {
      "cell_type": "markdown",
      "source": [
        "**9.1 Based-N and Binary**"
      ],
      "metadata": {
        "id": "yRpn9lgDkA2P"
      }
    },
    {
      "cell_type": "markdown",
      "source": [
        "The decimal system(base 10) is a way of representing numbers with digit of 0 and 9. And each digit is being the coefficient of a power of 10.\n",
        "\n",
        "The binary system (base 2) is a way of representing numbers with digit of 0 and 1. And each digit is being the coefficient of a power of 2."
      ],
      "metadata": {
        "id": "rOspxqHRRYkJ"
      }
    },
    {
      "cell_type": "code",
      "source": [
        "561.4 == (5*10**2) + (6*10**1) + (1*10**0) + (4*10**-1)\n",
        "# This shows the decimal number 561.4 in (base10)"
      ],
      "metadata": {
        "colab": {
          "base_uri": "https://localhost:8080/"
        },
        "id": "RGJoH7JxRibL",
        "outputId": "8e2f89ab-f254-4145-bf29-e9b4628896b5"
      },
      "execution_count": 1,
      "outputs": [
        {
          "output_type": "execute_result",
          "data": {
            "text/plain": [
              "True"
            ]
          },
          "metadata": {},
          "execution_count": 1
        }
      ]
    },
    {
      "cell_type": "code",
      "source": [
        "# 150(base3) == 15(base10)\n",
        "(5*3**3) + (1*3**2) + (6*3**0) == (1*10**2) + (5*10**1) + (0*10**0)"
      ],
      "metadata": {
        "colab": {
          "base_uri": "https://localhost:8080/"
        },
        "id": "X3BJNSbBTb54",
        "outputId": "e6521ff1-d1d4-4d69-ce26-cb076040f35e"
      },
      "execution_count": 2,
      "outputs": [
        {
          "output_type": "execute_result",
          "data": {
            "text/plain": [
              "True"
            ]
          },
          "metadata": {},
          "execution_count": 2
        }
      ]
    },
    {
      "cell_type": "markdown",
      "source": [
        "In order to convert decimals into binary, the decimal must be represented in (base 10) to then be converted into binary (base 2)"
      ],
      "metadata": {
        "id": "oM4SR5U7XpDY"
      }
    },
    {
      "cell_type": "code",
      "source": [
        "# Converting 76(base10) to binary\n",
        "# 76(base10) == 64+8+4\n",
        "76 == (1*2**6) + (1*2**3) + (1*2**2)"
      ],
      "metadata": {
        "colab": {
          "base_uri": "https://localhost:8080/"
        },
        "id": "kdadnwsGYOVP",
        "outputId": "87053e61-126e-4a77-b591-7783a6b0f144"
      },
      "execution_count": 3,
      "outputs": [
        {
          "output_type": "execute_result",
          "data": {
            "text/plain": [
              "True"
            ]
          },
          "metadata": {},
          "execution_count": 3
        }
      ]
    },
    {
      "cell_type": "code",
      "source": [
        "# Converting 27(base10) to binary (base2)\n",
        "# 27(base10) == 16+8+2+1\n",
        "27 == (1*2**4) + (1*2**3) + (1*2**1) + (1*2**0)"
      ],
      "metadata": {
        "colab": {
          "base_uri": "https://localhost:8080/"
        },
        "id": "RGyoZSRsa-xa",
        "outputId": "f1274efc-e037-48e2-8e82-56d1592a7d57"
      },
      "execution_count": 4,
      "outputs": [
        {
          "output_type": "execute_result",
          "data": {
            "text/plain": [
              "True"
            ]
          },
          "metadata": {},
          "execution_count": 4
        }
      ]
    },
    {
      "cell_type": "markdown",
      "source": [
        "Once in binary, normal addition and multiplication rules can be applied to compute the values"
      ],
      "metadata": {
        "id": "-DySwuuLbbkC"
      }
    },
    {
      "cell_type": "code",
      "source": [
        "# Addition in binary\n",
        "# 76 + 27 = 103\n",
        "# 1001100 + 11011 = 1100111\n",
        "103 == (1*2**6) + (1*2**5) + (1*2**2) + (1*2**1) + (1*2**0)"
      ],
      "metadata": {
        "colab": {
          "base_uri": "https://localhost:8080/"
        },
        "id": "3l-yiQxYbKn3",
        "outputId": "79bc4cef-1566-48d6-d04b-af8bd8e81c9b"
      },
      "execution_count": 5,
      "outputs": [
        {
          "output_type": "execute_result",
          "data": {
            "text/plain": [
              "True"
            ]
          },
          "metadata": {},
          "execution_count": 5
        }
      ]
    },
    {
      "cell_type": "code",
      "source": [
        "# Multiplication in binary\n",
        "# 76 * 27 = 1748\n",
        "# 1001100 * 11011 = 11011010100\n",
        "1748 == (1*2**10) + (1*2**9) + (1*2**7) + (1*2**6) + (1*2**4) + (1*2**2)"
      ],
      "metadata": {
        "colab": {
          "base_uri": "https://localhost:8080/"
        },
        "id": "MiA5xUrtc9Y0",
        "outputId": "a0dcf0bf-ce3b-4d66-f653-14b44b9be4eb"
      },
      "execution_count": 6,
      "outputs": [
        {
          "output_type": "execute_result",
          "data": {
            "text/plain": [
              "True"
            ]
          },
          "metadata": {},
          "execution_count": 6
        }
      ]
    },
    {
      "cell_type": "markdown",
      "source": [
        "**9.2 Floating Numbers**"
      ],
      "metadata": {
        "id": "aXZ0zNZxkEKX"
      }
    },
    {
      "cell_type": "markdown",
      "source": [
        "A floating point number allocates bits in three different parts: the sign indicator, exponenet (a power of 2), and fraction\n",
        "\n",
        "A float is representad as: n = (-1)^s * 2(e-1023) * (1+f)"
      ],
      "metadata": {
        "id": "LvODoFyN8dVp"
      }
    },
    {
      "cell_type": "code",
      "source": [
        "import sys\n",
        "sys.float_info"
      ],
      "metadata": {
        "colab": {
          "base_uri": "https://localhost:8080/"
        },
        "id": "Vgpn9p4d5w2P",
        "outputId": "b971e0ab-2925-474d-f153-b968d2e20c19"
      },
      "execution_count": 7,
      "outputs": [
        {
          "output_type": "execute_result",
          "data": {
            "text/plain": [
              "sys.float_info(max=1.7976931348623157e+308, max_exp=1024, max_10_exp=308, min=2.2250738585072014e-308, min_exp=-1021, min_10_exp=-307, dig=15, mant_dig=53, epsilon=2.220446049250313e-16, radix=2, rounds=1)"
            ]
          },
          "metadata": {},
          "execution_count": 7
        }
      ]
    },
    {
      "cell_type": "markdown",
      "source": [
        "The gap between one number and the next can be found using the spacing function"
      ],
      "metadata": {
        "id": "Y3Rgu9VVQhFn"
      }
    },
    {
      "cell_type": "code",
      "source": [
        "import numpy as np\n",
        "np.spacing(1e5)\n",
        "1e5 == (1e5 + np.spacing(1e5)/3)\n",
        "# This verifies adding a number to 1e5 is less than half the gap at 1e9 results in the same number."
      ],
      "metadata": {
        "colab": {
          "base_uri": "https://localhost:8080/"
        },
        "id": "zHfeY1Br57JI",
        "outputId": "3827c96e-d301-4f88-87c9-7a79ed5d9af4"
      },
      "execution_count": 8,
      "outputs": [
        {
          "output_type": "execute_result",
          "data": {
            "text/plain": [
              "True"
            ]
          },
          "metadata": {},
          "execution_count": 8
        }
      ]
    },
    {
      "cell_type": "markdown",
      "source": [
        "Any number that is larger than the largest possible (overflow) will result in infinity\n",
        "\n",
        "Any number smaller than the smallest possible number (underflow) will result in 0.0"
      ],
      "metadata": {
        "id": "fqiG_puvVme8"
      }
    },
    {
      "cell_type": "code",
      "source": [
        "# Overflow\n",
        "sys.float_info.max + sys.float_info.max"
      ],
      "metadata": {
        "colab": {
          "base_uri": "https://localhost:8080/"
        },
        "id": "HD6waGluWTk1",
        "outputId": "a37a589c-5d47-4ab4-c832-70df7b259c94"
      },
      "execution_count": 9,
      "outputs": [
        {
          "output_type": "execute_result",
          "data": {
            "text/plain": [
              "inf"
            ]
          },
          "metadata": {},
          "execution_count": 9
        }
      ]
    },
    {
      "cell_type": "code",
      "source": [
        "# Underflow\n",
        "2**(-1075)"
      ],
      "metadata": {
        "colab": {
          "base_uri": "https://localhost:8080/"
        },
        "id": "IiQpmc00WfTq",
        "outputId": "983a14b0-c14d-46c0-b937-5fecfd3fc6b3"
      },
      "execution_count": 10,
      "outputs": [
        {
          "output_type": "execute_result",
          "data": {
            "text/plain": [
              "0.0"
            ]
          },
          "metadata": {},
          "execution_count": 10
        }
      ]
    },
    {
      "cell_type": "markdown",
      "source": [
        "**9.3 Round-off Errors**"
      ],
      "metadata": {
        "id": "YplBTS9GWntz"
      }
    },
    {
      "cell_type": "markdown",
      "source": [
        "Floating point numbers can not be stored with perfect precision, so they are approximated\n",
        "\n",
        "The difference between an approximation of a number used in computation and its true value is the round- off error"
      ],
      "metadata": {
        "id": "69-vHz9ZWxGL"
      }
    },
    {
      "cell_type": "code",
      "source": [
        "9.2 - 8.75 == 0.45\n",
        "# This shows the round-off error present in python"
      ],
      "metadata": {
        "colab": {
          "base_uri": "https://localhost:8080/"
        },
        "id": "9cWcJcihXTyI",
        "outputId": "a44a6200-e9a9-4c6c-d89e-311964102110"
      },
      "execution_count": 11,
      "outputs": [
        {
          "output_type": "execute_result",
          "data": {
            "text/plain": [
              "False"
            ]
          },
          "metadata": {},
          "execution_count": 11
        }
      ]
    },
    {
      "cell_type": "code",
      "source": [
        "9.2-8.75\n",
        "# True value of this computation"
      ],
      "metadata": {
        "colab": {
          "base_uri": "https://localhost:8080/"
        },
        "id": "3gs_5jM1YxdM",
        "outputId": "31bb9f36-ef22-49ff-8308-6ed417a67a1c"
      },
      "execution_count": 12,
      "outputs": [
        {
          "output_type": "execute_result",
          "data": {
            "text/plain": [
              "0.4499999999999993"
            ]
          },
          "metadata": {},
          "execution_count": 12
        }
      ]
    },
    {
      "cell_type": "code",
      "source": [
        "# Round function can be used for post-rounding to compare the 2 values\n",
        "round(9.2-8.75,3) == round(0.45,3)"
      ],
      "metadata": {
        "colab": {
          "base_uri": "https://localhost:8080/"
        },
        "id": "RKrKyBIbZCwm",
        "outputId": "9bac40f2-acc9-44b2-98ae-53057f8dd571"
      },
      "execution_count": 13,
      "outputs": [
        {
          "output_type": "execute_result",
          "data": {
            "text/plain": [
              "True"
            ]
          },
          "metadata": {},
          "execution_count": 13
        }
      ]
    },
    {
      "cell_type": "markdown",
      "source": [
        "The round-off error will also be accumlated throughout a series of calculations"
      ],
      "metadata": {
        "id": "OnmuQ_GQZpT6"
      }
    },
    {
      "cell_type": "code",
      "source": [
        "# Computing once\n",
        "3 + 1/6 - 1/6"
      ],
      "metadata": {
        "colab": {
          "base_uri": "https://localhost:8080/"
        },
        "id": "4B-wWXn1ZvBo",
        "outputId": "10e4ac24-9f6d-4751-be7d-17489a8f80ef"
      },
      "execution_count": 14,
      "outputs": [
        {
          "output_type": "execute_result",
          "data": {
            "text/plain": [
              "3.0"
            ]
          },
          "metadata": {},
          "execution_count": 14
        }
      ]
    },
    {
      "cell_type": "code",
      "source": [
        "# Compute 50 times\n",
        "def add_and_sub(i):\n",
        "  result = 3\n",
        "  for num in range(i):\n",
        "    result += 1/6\n",
        "\n",
        "  for num in range(i):\n",
        "    result -= 1/6\n",
        "  return result\n",
        "\n",
        "print(add_and_sub(50))"
      ],
      "metadata": {
        "colab": {
          "base_uri": "https://localhost:8080/"
        },
        "id": "tzBMaJteZ7Y_",
        "outputId": "f7fcb64a-490f-4bd9-99bf-fef98feb107b"
      },
      "execution_count": 15,
      "outputs": [
        {
          "output_type": "stream",
          "name": "stdout",
          "text": [
            "2.9999999999999996\n"
          ]
        }
      ]
    },
    {
      "cell_type": "code",
      "source": [
        "# Compute 500 times\n",
        "print(add_and_sub(500))\n",
        "\n",
        "# Compute 5000 times\n",
        "print(add_and_sub(5000))"
      ],
      "metadata": {
        "colab": {
          "base_uri": "https://localhost:8080/"
        },
        "id": "QGyXZ-zZaoke",
        "outputId": "6b002550-be52-429e-fa32-13a4e255f6e8"
      },
      "execution_count": 16,
      "outputs": [
        {
          "output_type": "stream",
          "name": "stdout",
          "text": [
            "3.0000000000000027\n",
            "2.9999999999999454\n"
          ]
        }
      ]
    }
  ]
}
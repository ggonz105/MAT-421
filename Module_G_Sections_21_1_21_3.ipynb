{
  "nbformat": 4,
  "nbformat_minor": 0,
  "metadata": {
    "colab": {
      "provenance": [],
      "authorship_tag": "ABX9TyOLWdMAaT1LSVGxxQaPLhXs",
      "include_colab_link": true
    },
    "kernelspec": {
      "name": "python3",
      "display_name": "Python 3"
    },
    "language_info": {
      "name": "python"
    }
  },
  "cells": [
    {
      "cell_type": "markdown",
      "metadata": {
        "id": "view-in-github",
        "colab_type": "text"
      },
      "source": [
        "<a href=\"https://colab.research.google.com/github/ggonz105/MAT-421/blob/main/Module_G_Sections_21_1_21_3.ipynb\" target=\"_parent\"><img src=\"https://colab.research.google.com/assets/colab-badge.svg\" alt=\"Open In Colab\"/></a>"
      ]
    },
    {
      "cell_type": "markdown",
      "source": [
        "**Sectino 21.1 Numerical Integration Problem Statement**"
      ],
      "metadata": {
        "id": "oZ_EqVIioXnZ"
      }
    },
    {
      "cell_type": "markdown",
      "source": [
        "* The integral of f(x) over an interval [a,b] can be approximated by discretizing the inteveral into a numerical grid consisting of n+1 points with spacing $h = \\frac{(b-a)}{n}$\n",
        "* Each method of approximating a definite integral sums the area of contributions of every subinterval [${x_i,x_i+1]}$"
      ],
      "metadata": {
        "id": "hG4wgAo9ogp7"
      }
    },
    {
      "cell_type": "markdown",
      "source": [
        "**Section 21.2 Reimanns Integral**"
      ],
      "metadata": {
        "id": "SCNbBpPhKuHh"
      }
    },
    {
      "cell_type": "markdown",
      "source": [
        "* Simplest method for approximating integrals is by summing the area of rectangles that are defined for each subinterval\n",
        "* Riemann Integral uses the height value that corresponds to the left endpoint ($x_i$) and the right endpoint ($x_i+1$)\n",
        "* Midpoint rule takes the height of each rectangle at it's midpoint, $y_i = \\frac{(x_i+1)+x_i}{2}$\n"
      ],
      "metadata": {
        "id": "08mY5NMiK0TB"
      }
    },
    {
      "cell_type": "code",
      "execution_count": 11,
      "metadata": {
        "id": "SaXM8TVjoH7k",
        "colab": {
          "base_uri": "https://localhost:8080/"
        },
        "outputId": "afbd019b-196b-4c21-b60e-44c7e5627ff9"
      },
      "outputs": [
        {
          "output_type": "stream",
          "name": "stdout",
          "text": [
            "1.9796508112164832\n",
            "0.02034918878351677\n",
            "1.9796508112164832\n",
            "0.02034918878351677\n",
            "2.01019011595042\n",
            "-0.010190115950420076\n"
          ]
        }
      ],
      "source": [
        "import numpy as np\n",
        "\n",
        "a = 0\n",
        "b = np.pi\n",
        "n = 10\n",
        "h = (b - a) / (n - 1)\n",
        "x = np.linspace(a, b, n)\n",
        "f = np.sin(x)\n",
        "\n",
        "I_riemannL = h * sum(f[:n-1])\n",
        "err_riemannL = 2 - I_riemannL\n",
        "\n",
        "I_riemannR = h * sum(f[1::])\n",
        "err_riemannR = 2 - I_riemannR\n",
        "\n",
        "I_mid = h * sum(np.sin((x[:n-1] \\\n",
        "        + x[1:])/2))\n",
        "err_mid = 2 - I_mid\n",
        "\n",
        "print(I_riemannL)\n",
        "print(err_riemannL)\n",
        "\n",
        "print(I_riemannR)\n",
        "print(err_riemannR)\n",
        "\n",
        "print(I_mid)\n",
        "print(err_mid)"
      ]
    },
    {
      "cell_type": "markdown",
      "source": [
        "**Section 21.3 Trapezoid Rule**"
      ],
      "metadata": {
        "id": "Jxurk8OVMQwr"
      }
    },
    {
      "cell_type": "markdown",
      "source": [
        "* Trapezoid rule fits a trapezoid into each subinterval and sums the areas to approximate the total integral"
      ],
      "metadata": {
        "id": "9TIXOB_TMT_a"
      }
    },
    {
      "cell_type": "code",
      "source": [
        "import numpy as np\n",
        "\n",
        "a = 0\n",
        "b = np.pi\n",
        "n = 10\n",
        "h = (b - a) / (n - 1)\n",
        "x = np.linspace(a, b, n)\n",
        "f = np.sin(x)\n",
        "\n",
        "I_trap = (h/2)*(f[0] + \\\n",
        "          2 * sum(f[1:n-1]) + f[n-1])\n",
        "err_trap = 2 - I_trap\n",
        "\n",
        "print(I_trap)\n",
        "print(err_trap)"
      ],
      "metadata": {
        "colab": {
          "base_uri": "https://localhost:8080/"
        },
        "id": "lY7N26D-MYCM",
        "outputId": "17a2447b-77e9-4610-b3b5-4daa9050b81b"
      },
      "execution_count": 12,
      "outputs": [
        {
          "output_type": "stream",
          "name": "stdout",
          "text": [
            "1.9796508112164832\n",
            "0.02034918878351677\n"
          ]
        }
      ]
    }
  ]
}